{
 "cells": [
  {
   "cell_type": "code",
   "execution_count": 1,
   "metadata": {},
   "outputs": [],
   "source": [
    "import numpy as np\n",
    "import pandas as pd\n",
    "import re\n",
    "from sklearn import preprocessing\n",
    "from scipy.sparse import csr_matrix\n",
    "from sklearn.cluster import DBSCAN\n",
    "from sklearn import metrics\n",
    "from sklearn.datasets.samples_generator import make_blobs"
   ]
  },
  {
   "cell_type": "code",
   "execution_count": 3,
   "metadata": {},
   "outputs": [],
   "source": [
    "states = [\"INITIAL\",\"login\",\"View_Items\",\"home\",\"logout\",\"View_Items_quantity\",\"Add_to_Cart\",\"shoppingcart\",\n",
    "          \"remove\",\"deferorder\",\"purchasecart\",\"inventory\",\"sellinventory\",\"clearcart\",\"cancelorder\"]\n",
    "sessions = {'HZKS0-WG8pZr0eCsZlBAP5Xm': ['INITIAL','login',\n",
    "   'View_Items',\n",
    "   'View_Items',\n",
    "   'View_Items',\n",
    "   'View_Items',\n",
    "   'View_Items',\n",
    "   'View_Items',\n",
    "   'View_Items',\n",
    "   'View_Items',\n",
    "   'View_Items',\n",
    "   'View_Items',\n",
    "   'View_Items',\n",
    "   'View_Items',\n",
    "   'View_Items',\n",
    "   'View_Items',\n",
    "   'home',\n",
    "   'logout','$'],'5tPgZbHdK2Zp+heFBs8HsMkx': ['INITIAL','login',\n",
    "   'View_Items_quantity',\n",
    "   'Add_to_Cart',\n",
    "   'View_Items_quantity',\n",
    "   'Add_to_Cart',\n",
    "   'View_Items_quantity',\n",
    "   'Add_to_Cart',\n",
    "   'View_Items_quantity',\n",
    "   'Add_to_Cart',\n",
    "   'View_Items_quantity',\n",
    "   'Add_to_Cart',\n",
    "   'shoppingcart',\n",
    "   'remove',\n",
    "   'shoppingcart',\n",
    "   'remove',\n",
    "   'shoppingcart',\n",
    "   'remove',\n",
    "   'shoppingcart',\n",
    "   'remove',\n",
    "   'deferorder',\n",
    "   'home',\n",
    "   'logout','$']}"
   ]
  },
  {
   "cell_type": "code",
   "execution_count": 4,
   "metadata": {},
   "outputs": [
    {
     "name": "stdout",
     "output_type": "stream",
     "text": [
      "  (0, 1)\t1.0\n",
      "  (1, 2)\t1.0\n",
      "  (2, 2)\t0.93\n",
      "  (2, 3)\t0.07\n",
      "  (3, 4)\t1.0\n",
      "  (4, 15)\t1.0\n",
      "  (0, 1)\t1.0\n",
      "  (1, 5)\t1.0\n",
      "  (2, 6)\t1.0\n",
      "  (3, 5)\t0.8\n",
      "  (3, 7)\t0.2\n",
      "  (4, 8)\t1.0\n",
      "  (5, 7)\t0.75\n",
      "  (5, 9)\t0.25\n",
      "  (6, 3)\t1.0\n",
      "  (7, 4)\t1.0\n",
      "  (8, 15)\t1.0\n"
     ]
    },
    {
     "data": {
      "text/plain": [
       "<10x16 sparse matrix of type '<class 'numpy.float64'>'\n",
       "\twith 11 stored elements in Compressed Sparse Row format>"
      ]
     },
     "execution_count": 4,
     "metadata": {},
     "output_type": "execute_result"
    }
   ],
   "source": [
    "def transition_matrix(sessions, states):\n",
    "    markovchains = []\n",
    "    for key, value in sessions.items():\n",
    "        # labelEncoding\n",
    "        le = preprocessing.LabelEncoder()\n",
    "        le.fit(value)\n",
    "        transformed_s = le.transform(value)\n",
    "        \n",
    "        #factorize\n",
    "        factorize = pd.factorize(value)[0]\n",
    "        \n",
    "        # matrix\n",
    "        n = 1 + max(factorize)  # number of states\n",
    "        M = [[0] * n for _ in range(n)]\n",
    "\n",
    "        for (i, j) in zip(factorize, factorize[1:]):\n",
    "            M[i][j] += 1\n",
    "        \n",
    "        # now convert to probabilities:\n",
    "        for row in M:\n",
    "            s = sum(row)\n",
    "            if s > 0:\n",
    "                row[:] = [f / s for f in row]\n",
    "                \n",
    "        # print Matrix style\n",
    "        #for row in M: print(' '.join('{0:.2f}'.format(x) for x in row))\n",
    "        \n",
    "        # unique array in the right order\n",
    "        value = np.array(value)\n",
    "        _, idx = np.unique(value, return_index=True)\n",
    "        \n",
    "        df = pd.DataFrame(data = M, index=value[np.sort(idx)],\n",
    "                          columns=value[np.sort(idx)])\n",
    "        df_1 = pd.DataFrame(index=states, columns=states, dtype='float64')\n",
    "        merge = df_1.merge(df, how='right').fillna(0).round(2).set_index(value[np.sort(idx)])\n",
    "        \n",
    "        # csr sparse matrix\n",
    "        merge = csr_matrix(merge.values)\n",
    "        print(merge)\n",
    "        markovchains.append([merge])\n",
    "        \n",
    "    return merge\n",
    "\n",
    "        \n",
    "#test:\n",
    "m = transition_matrix(sessions, states)\n",
    "m"
   ]
  },
  {
   "cell_type": "code",
   "execution_count": null,
   "metadata": {},
   "outputs": [],
   "source": []
  }
 ],
 "metadata": {
  "kernelspec": {
   "display_name": "Python 3",
   "language": "python",
   "name": "python3"
  },
  "language_info": {
   "codemirror_mode": {
    "name": "ipython",
    "version": 3
   },
   "file_extension": ".py",
   "mimetype": "text/x-python",
   "name": "python",
   "nbconvert_exporter": "python",
   "pygments_lexer": "ipython3",
   "version": "3.6.7"
  }
 },
 "nbformat": 4,
 "nbformat_minor": 2
}
