{
 "cells": [
  {
   "cell_type": "code",
   "execution_count": 9,
   "metadata": {},
   "outputs": [],
   "source": [
    "import re\n",
    "import numpy as np\n",
    "import pandas as pd\n",
    "from sklearn import preprocessing\n",
    "from scipy.sparse import csr_matrix\n",
    "from sklearn.cluster import DBSCAN\n",
    "import datetime\n",
    "import time\n",
    "import seaborn as sns\n",
    "\"\"\"from dask.distributed import Client\n",
    "from dask_ml import preprocessing\n",
    "import dask.dataframe as dd\n",
    "import dask.array as da\"\"\"\n",
    "\n",
    "states = [\"INITIAL\",\"login\",\"View_Items\",\"home\",\"logout\",\"View_Items_quantity\",\"Add_to_Cart\",\"shoppingcart\",\n",
    "          \"remove\",\"deferorder\",\"purchasecart\",\"inventory\",\"sellinventory\",\"clearcart\",\"cancelorder\",\"$\"]\n",
    "\n",
    "#Data imports\n",
    "PATH = \"../../data/raw/\"\n",
    "sessions_file = (PATH+'sessions.dat')"
   ]
  },
  {
   "cell_type": "raw",
   "metadata": {},
   "source": [
    "client = Client(processes=False)#, threads_per_worker=4,\n",
    "                #n_workers=1, memory_limit='2GB')\n",
    "client"
   ]
  },
  {
   "cell_type": "code",
   "execution_count": 2,
   "metadata": {},
   "outputs": [],
   "source": [
    "def session_request_dict(sessions_file):\n",
    "    s_r_dict = {}\n",
    "    # Dict of sessions\n",
    "    with open(sessions_file) as fn:\n",
    "        sessions_raw = fn.readlines()\n",
    "\n",
    "    for session in sessions_raw:\n",
    "        key = re.search('([^.]+)', session).group()\n",
    "        value = re.findall('\\\"(.*?)\\\"', session)\n",
    "        s_r_dict[key] = value\n",
    "\n",
    "    return s_r_dict"
   ]
  },
  {
   "cell_type": "raw",
   "metadata": {},
   "source": [
    "def transition_matrix(sessions, states):\n",
    "    markovchains = []\n",
    "\n",
    "    for key, value in sessions.items():\n",
    "        # labelEncoding\n",
    "        le = preprocessing.LabelEncoder()\n",
    "        le.fit(value)\n",
    "        le.transform(value)\n",
    "\n",
    "        # factorize\n",
    "        factorize = pd.factorize(value)[0]\n",
    "        \n",
    "        # matrix\n",
    "        n = 1 + max(factorize)  # number of states\n",
    "        m = [[0] * n for _ in range(n)]\n",
    "\n",
    "        for (i, j) in zip(factorize, factorize[1:]):\n",
    "            m[i][j] += 1\n",
    "\n",
    "        # now convert to probabilities:\n",
    "        for row in m:\n",
    "            s = sum(row)\n",
    "            if s > 0:\n",
    "                row[:] = [f / s for f in row]\n",
    "\n",
    "        # unique array in the right order\n",
    "        value = np.array(value)\n",
    "        _, idx = np.unique(value, return_index=True)\n",
    "\n",
    "        df = pd.DataFrame(data=m, index=value[np.sort(idx)],\n",
    "                          columns=value[np.sort(idx)])\n",
    "\n",
    "        df_1 = pd.DataFrame(index=states, columns=states, dtype='float64')\n",
    "        df_1.update(df, join='left')\n",
    "\n",
    "        merge = dd.concat([pd.concat([df_1, df], axis=1, sort=False)], axis=0).fillna(0).round(2).iloc[:, :-n]\n",
    "\n",
    "        # convert into Vector\n",
    "        merge = da.array(merge.values.flatten().tolist())\n",
    "        # 2-D array\n",
    "        #print(merge)\n",
    "        markovchains.append(merge)\n",
    "        # csr sparse matrix\n",
    "        csr = csr_matrix(markovchains)\n",
    "\n",
    "    return csr\n"
   ]
  },
  {
   "cell_type": "code",
   "execution_count": 3,
   "metadata": {},
   "outputs": [],
   "source": [
    "def transition_matrix(sessions, states):\n",
    "    markovchains = []\n",
    "\n",
    "    for key, value in sessions.items():\n",
    "        # labelEncoding\n",
    "        le = preprocessing.LabelEncoder()\n",
    "        le.fit(value)\n",
    "        le.transform(value)\n",
    "\n",
    "        # factorize\n",
    "        factorize = pd.factorize(value)[0]\n",
    "        \n",
    "        # matrix\n",
    "        n = 1 + max(factorize)  # number of states\n",
    "        m = [[0] * n for _ in range(n)]\n",
    "\n",
    "        for (i, j) in zip(factorize, factorize[1:]):\n",
    "            m[i][j] += 1\n",
    "\n",
    "        # now convert to probabilities:\n",
    "        for row in m:\n",
    "            s = sum(row)\n",
    "            if s > 0:\n",
    "                row[:] = [f / s for f in row]\n",
    "\n",
    "        # unique array in the right order\n",
    "        value = np.array(value)\n",
    "        _, idx = np.unique(value, return_index=True)\n",
    "\n",
    "        df = pd.DataFrame(data=m, index=value[np.sort(idx)],\n",
    "                          columns=value[np.sort(idx)])\n",
    "\n",
    "        df_1 = pd.DataFrame(index=states, columns=states, dtype='float64')\n",
    "        df_1.update(df, join='left')\n",
    "\n",
    "        merge = pd.concat([pd.concat([df_1, df], axis=1, sort=False)], axis=0).fillna(0).round(2).iloc[:, :-n]\n",
    "\n",
    "        # convert into Vector\n",
    "        merge = np.array(merge.values.flatten().tolist())\n",
    "        # 2-D array\n",
    "        markovchains.append(merge)\n",
    "        # csr sparse matrix\n",
    "        csr = csr_matrix(markovchains)\n",
    "\n",
    "    return csr\n"
   ]
  },
  {
   "cell_type": "code",
   "execution_count": null,
   "metadata": {},
   "outputs": [],
   "source": [
    "def dbscan_model():\n",
    "    "
   ]
  },
  {
   "cell_type": "code",
   "execution_count": 25,
   "metadata": {},
   "outputs": [
    {
     "name": "stdout",
     "output_type": "stream",
     "text": [
      "30927\n",
      "load data done 2019-05-20 17:02:15\n",
      "matrix done 2019-05-20 17:02:17 \n",
      "\n",
      "start clustering\n",
      "(array([-1,  0,  1,  2], dtype=int64), array([ 2, 28, 46, 24], dtype=int64))\n",
      "DBSCAN(algorithm='auto', eps=1.5, leaf_size=30, metric='euclidean',\n",
      "    metric_params=None, min_samples=10, n_jobs=None, p=None)\n",
      "[-1  0  1  1  0  1  1  1  2  0  1  1  0  0  1  0  1  0  2  1  0  2  0  1\n",
      "  0  0  1  2  1  1  1  2  1  1  0  2  1  1  1  0  2  0  1  2  2  0  0  1\n",
      "  1  0  1  2  0  2  2  2  1  1  0  1  1  2  2  2  1  1  0  2  2  0  1  1\n",
      "  0  2 -1  0  2  1  0  0  1  1  1  2  2  0  1  1  1  0  1  0  2  1  1  1\n",
      "  1  1  1  2]\n",
      "End clustering 2019-05-20 17:02:17\n",
      "Wall time: 3.35 s\n"
     ]
    }
   ],
   "source": [
    "%%time\n",
    "\n",
    "data = session_request_dict(sessions_file)\n",
    "print(len(data))\n",
    "set_1 = {k: data[k] for k in list(data)[:100]}\n",
    "set_2 = {k: data[k] for k in list(data)[500:600]}\n",
    "print('load data done', datetime.datetime.fromtimestamp(time.time()).strftime('%Y-%m-%d %H:%M:%S'))\n",
    "#for X in tqdm(range(len(small_data_set))):\n",
    "X = transition_matrix(set_2, states)\n",
    "print('matrix done', datetime.datetime.fromtimestamp(time.time()).strftime('%Y-%m-%d %H:%M:%S \\n'))\n",
    "print('start clustering')\n",
    "clustering = DBSCAN(eps=1.5, min_samples=10).fit(X)\n",
    "labels = clustering.labels_\n",
    "#print(labels)\n",
    "print(np.unique(labels, return_counts=True))\n",
    "print(clustering)\n",
    "print(labels)\n",
    "print(\"End clustering\", datetime.datetime.fromtimestamp(time.time()).strftime('%Y-%m-%d %H:%M:%S'))"
   ]
  },
  {
   "cell_type": "code",
   "execution_count": 24,
   "metadata": {},
   "outputs": [
    {
     "data": {
      "text/plain": [
       "<matplotlib.axes._subplots.AxesSubplot at 0x1bca3f53780>"
      ]
     },
     "execution_count": 24,
     "metadata": {},
     "output_type": "execute_result"
    },
    {
     "data": {
      "image/png": "[encoded data removed]",
      "text/plain": [
       "<Figure size 432x288 with 1 Axes>"
      ]
     },
     "metadata": {
      "needs_background": "light"
     },
     "output_type": "display_data"
    }
   ],
   "source": [
    "sns.distplot(labels, bins=10,kde=False)"
   ]
  },
  {
   "cell_type": "code",
   "execution_count": 26,
   "metadata": {},
   "outputs": [
    {
     "data": {
      "text/plain": [
       "<matplotlib.axes._subplots.AxesSubplot at 0x1bcae6dd550>"
      ]
     },
     "execution_count": 26,
     "metadata": {},
     "output_type": "execute_result"
    },
    {
     "data": {
      "image/png": "[encoded data removed]",
      "text/plain": [
       "<Figure size 432x288 with 1 Axes>"
      ]
     },
     "metadata": {
      "needs_background": "light"
     },
     "output_type": "display_data"
    }
   ],
   "source": [
    "sns.distplot(labels, bins=10,kde=False)"
   ]
  },
  {
   "cell_type": "code",
   "execution_count": null,
   "metadata": {},
   "outputs": [],
   "source": []
  }
 ],
 "metadata": {
  "kernelspec": {
   "display_name": "Python 3",
   "language": "python",
   "name": "python3"
  },
  "language_info": {
   "codemirror_mode": {
    "name": "ipython",
    "version": 3
   },
   "file_extension": ".py",
   "mimetype": "text/x-python",
   "name": "python",
   "nbconvert_exporter": "python",
   "pygments_lexer": "ipython3",
   "version": "3.6.7"
  }
 },
 "nbformat": 4,
 "nbformat_minor": 2
}
