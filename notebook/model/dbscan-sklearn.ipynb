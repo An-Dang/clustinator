{
 "cells": [
  {
   "cell_type": "markdown",
   "metadata": {},
   "source": [
    "# Using DBSCAN as clustering method"
   ]
  },
  {
   "cell_type": "code",
   "execution_count": 2,
   "metadata": {},
   "outputs": [],
   "source": [
    "import numpy as np\n",
    "import pandas as pd\n",
    "import re\n",
    "from sklearn import preprocessing\n",
    "from scipy.sparse import csr_matrix\n",
    "from sklearn.cluster import DBSCAN\n",
    "from sklearn import metrics\n",
    "from sklearn.datasets.samples_generator import make_blobs"
   ]
  },
  {
   "cell_type": "markdown",
   "metadata": {},
   "source": [
    "## Test"
   ]
  },
  {
   "cell_type": "code",
   "execution_count": 3,
   "metadata": {},
   "outputs": [],
   "source": [
    "states = [\"INITIAL\",\"login\",\"View_Items\",\"home\",\"logout\",\"View_Items_quantity\",\"Add_to_Cart\",\"shoppingcart\",\n",
    "          \"remove\",\"deferorder\",\"purchasecart\",\"inventory\",\"sellinventory\",\"clearcart\",\"cancelorder\"]\n",
    "sessions = {'HZKS0-WG8pZr0eCsZlBAP5Xm': ['INITIAL','login',\n",
    "   'View_Items',\n",
    "   'View_Items',\n",
    "   'View_Items',\n",
    "   'View_Items',\n",
    "   'View_Items',\n",
    "   'View_Items',\n",
    "   'View_Items',\n",
    "   'View_Items',\n",
    "   'View_Items',\n",
    "   'View_Items',\n",
    "   'View_Items',\n",
    "   'View_Items',\n",
    "   'View_Items',\n",
    "   'View_Items',\n",
    "   'home',\n",
    "   'logout','$'],'5tPgZbHdK2Zp+heFBs8HsMkx': ['INITIAL','login',\n",
    "   'View_Items_quantity',\n",
    "   'Add_to_Cart',\n",
    "   'View_Items_quantity',\n",
    "   'Add_to_Cart',\n",
    "   'View_Items_quantity',\n",
    "   'Add_to_Cart',\n",
    "   'View_Items_quantity',\n",
    "   'Add_to_Cart',\n",
    "   'View_Items_quantity',\n",
    "   'Add_to_Cart',\n",
    "   'shoppingcart',\n",
    "   'remove',\n",
    "   'shoppingcart',\n",
    "   'remove',\n",
    "   'shoppingcart',\n",
    "   'remove',\n",
    "   'shoppingcart',\n",
    "   'remove',\n",
    "   'deferorder',\n",
    "   'home',\n",
    "   'logout','$']}"
   ]
  },
  {
   "cell_type": "markdown",
   "metadata": {},
   "source": [
    "### Makovchain & sparse matrix"
   ]
  },
  {
   "cell_type": "code",
   "execution_count": 94,
   "metadata": {},
   "outputs": [
    {
     "name": "stdout",
     "output_type": "stream",
     "text": [
      "(6, 16)\n",
      "(10, 16)\n",
      "[<6x16 sparse matrix of type '<class 'numpy.float64'>'\n",
      "\twith 6 stored elements in Compressed Sparse Row format>, <10x16 sparse matrix of type '<class 'numpy.float64'>'\n",
      "\twith 11 stored elements in Compressed Sparse Row format>]\n"
     ]
    }
   ],
   "source": [
    "def transition_matrix(sessions, states):\n",
    "    markovchains = []\n",
    "    for key, value in sessions.items():\n",
    "        # labelEncoding\n",
    "        le = preprocessing.LabelEncoder()\n",
    "        le.fit(value)\n",
    "        transformed_s = le.transform(value)\n",
    "        \n",
    "        #factorize\n",
    "        factorize = pd.factorize(value)[0]\n",
    "        \n",
    "        # matrix\n",
    "        n = 1 + max(factorize)  # number of states\n",
    "        M = [[0] * n for _ in range(n)]\n",
    "\n",
    "        for (i, j) in zip(factorize, factorize[1:]):\n",
    "            M[i][j] += 1\n",
    "        \n",
    "        # now convert to probabilities:\n",
    "        for row in M:\n",
    "            s = sum(row)\n",
    "            if s > 0:\n",
    "                row[:] = [f / s for f in row]\n",
    "                \n",
    "        # print Matrix style\n",
    "        #for row in M: print(' '.join('{0:.2f}'.format(x) for x in row))\n",
    "        \n",
    "        # unique array in the right order\n",
    "        value = np.array(value)\n",
    "        _, idx = np.unique(value, return_index=True)\n",
    "        \n",
    "        df = pd.DataFrame(data = M, index=value[np.sort(idx)],\n",
    "                          columns=value[np.sort(idx)])\n",
    "        df_1 = pd.DataFrame(index=states, columns=states, dtype='float64')\n",
    "        merge = df_1.merge(df, how='right').fillna(0).round(2).set_index(value[np.sort(idx)])\n",
    "        \n",
    "        # csr sparse matrix\n",
    "        #print(merge)\n",
    "        merge = csr_matrix(merge.values)#.toarray()\n",
    "        markovchains.append(merge)\n",
    "        \n",
    "    return markovchains\n",
    "\n",
    "        \n",
    "#test:\n",
    "m = transition_matrix(sessions, states)\n",
    "print(m)"
   ]
  },
  {
   "cell_type": "code",
   "execution_count": 82,
   "metadata": {},
   "outputs": [
    {
     "name": "stdout",
     "output_type": "stream",
     "text": [
      "[0 0 0 0 0 0]\n",
      "DBSCAN(algorithm='auto', eps=3, leaf_size=30, metric='euclidean',\n",
      "    metric_params=None, min_samples=2, n_jobs=None, p=None)\n"
     ]
    }
   ],
   "source": [
    "X = m\n",
    "clustering = DBSCAN(eps=3, min_samples=1).fit(X)\n",
    "labels = clustering.labels_\n",
    "print(labels)\n",
    "print(clustering)"
   ]
  },
  {
   "cell_type": "markdown",
   "metadata": {},
   "source": [
    "## DBSCAN\n",
    "Testing DBSCAN with random data."
   ]
  },
  {
   "cell_type": "code",
   "execution_count": 91,
   "metadata": {},
   "outputs": [
    {
     "name": "stdout",
     "output_type": "stream",
     "text": [
      "[0 0 0 0 0 0]\n",
      "DBSCAN(algorithm='auto', eps=2, leaf_size=30, metric='euclidean',\n",
      "    metric_params=None, min_samples=1, n_jobs=None, p=None)\n",
      "[0 0 0 0 0 0 0 0 0 0]\n",
      "DBSCAN(algorithm='auto', eps=2, leaf_size=30, metric='euclidean',\n",
      "    metric_params=None, min_samples=1, n_jobs=None, p=None)\n"
     ]
    }
   ],
   "source": [
    "j = 0\n",
    "for i in m:\n",
    "    X = m[j]\n",
    "    clustering = DBSCAN(eps=2, min_samples=1).fit(X)\n",
    "    labels = clustering.labels_\n",
    "    print(labels)\n",
    "    print(clustering)\n",
    "    j += 1"
   ]
  },
  {
   "cell_type": "code",
   "execution_count": 62,
   "metadata": {},
   "outputs": [
    {
     "name": "stdout",
     "output_type": "stream",
     "text": [
      "[ 0  0  0  1  1 -1]\n"
     ]
    },
    {
     "data": {
      "text/plain": [
       "DBSCAN(algorithm='auto', eps=3, leaf_size=30, metric='euclidean',\n",
       "    metric_params=None, min_samples=2, n_jobs=None, p=None)"
      ]
     },
     "execution_count": 62,
     "metadata": {},
     "output_type": "execute_result"
    }
   ],
   "source": [
    "X = np.array([[1, 2], [2, 2], [2, 3],\n",
    "              [8, 7], [8, 8], [25, 80]])\n",
    "clustering = DBSCAN(eps=3, min_samples=2).fit(X)\n",
    "print(clustering.labels_)\n",
    "\n",
    "clustering "
   ]
  },
  {
   "cell_type": "markdown",
   "metadata": {},
   "source": [
    "## To do: \n",
    "Choosing a metric for calculating the distances."
   ]
  },
  {
   "cell_type": "code",
   "execution_count": 10,
   "metadata": {},
   "outputs": [
    {
     "ename": "NameError",
     "evalue": "name 'core_samples' is not defined",
     "output_type": "error",
     "traceback": [
      "\u001b[1;31m---------------------------------------------------------------------------\u001b[0m",
      "\u001b[1;31mNameError\u001b[0m                                 Traceback (most recent call last)",
      "\u001b[1;32m<ipython-input-10-a6a160b90e2e>\u001b[0m in \u001b[0;36m<module>\u001b[1;34m\u001b[0m\n\u001b[0;32m     15\u001b[0m         \u001b[0mmarkersize\u001b[0m \u001b[1;33m=\u001b[0m \u001b[1;36m6\u001b[0m\u001b[1;33m\u001b[0m\u001b[1;33m\u001b[0m\u001b[0m\n\u001b[0;32m     16\u001b[0m     \u001b[0mclass_members\u001b[0m \u001b[1;33m=\u001b[0m \u001b[1;33m[\u001b[0m\u001b[0mindex\u001b[0m\u001b[1;33m[\u001b[0m\u001b[1;36m0\u001b[0m\u001b[1;33m]\u001b[0m \u001b[1;32mfor\u001b[0m \u001b[0mindex\u001b[0m \u001b[1;32min\u001b[0m \u001b[0mnp\u001b[0m\u001b[1;33m.\u001b[0m\u001b[0margwhere\u001b[0m\u001b[1;33m(\u001b[0m\u001b[0mlabels\u001b[0m \u001b[1;33m==\u001b[0m \u001b[0mk\u001b[0m\u001b[1;33m)\u001b[0m\u001b[1;33m]\u001b[0m\u001b[1;33m\u001b[0m\u001b[1;33m\u001b[0m\u001b[0m\n\u001b[1;32m---> 17\u001b[1;33m     cluster_core_samples = [index for index in core_samples\n\u001b[0m\u001b[0;32m     18\u001b[0m                             if labels[index] == k]\n\u001b[0;32m     19\u001b[0m     \u001b[1;32mfor\u001b[0m \u001b[0mindex\u001b[0m \u001b[1;32min\u001b[0m \u001b[0mclass_members\u001b[0m\u001b[1;33m:\u001b[0m\u001b[1;33m\u001b[0m\u001b[1;33m\u001b[0m\u001b[0m\n",
      "\u001b[1;31mNameError\u001b[0m: name 'core_samples' is not defined"
     ]
    },
    {
     "data": {
      "text/plain": [
       "<Figure size 432x288 with 0 Axes>"
      ]
     },
     "metadata": {},
     "output_type": "display_data"
    }
   ],
   "source": [
    "# Plot result\n",
    "import pylab as pl\n",
    "from itertools import cycle\n",
    "\n",
    "pl.close('all')\n",
    "pl.figure(1)\n",
    "pl.clf()\n",
    "\n",
    "# Black removed and is used for noise instead.\n",
    "colors = cycle('bgrcmybgrcmybgrcmybgrcmy')\n",
    "for k, col in zip(set(labels), colors):\n",
    "    if k == -1:\n",
    "        # Black used for noise.\n",
    "        col = 'k'\n",
    "        markersize = 6\n",
    "    class_members = [index[0] for index in np.argwhere(labels == k)]\n",
    "    cluster_core_samples = [index for index in core_samples\n",
    "                            if labels[index] == k]\n",
    "    for index in class_members:\n",
    "        x = X[index]\n",
    "        if index in core_samples and k != -1:\n",
    "            markersize = 14\n",
    "        else:\n",
    "            markersize = 6\n",
    "        pl.plot(x[0], x[1], 'o', markerfacecolor=col,\n",
    "                markeredgecolor='k', markersize=markersize)\n",
    "\n",
    "pl.title('Estimated number of clusters: %d' % n_clusters_)\n",
    "pl.show()"
   ]
  },
  {
   "cell_type": "code",
   "execution_count": null,
   "metadata": {},
   "outputs": [],
   "source": []
  }
 ],
 "metadata": {
  "kernelspec": {
   "display_name": "Python 3",
   "language": "python",
   "name": "python3"
  },
  "language_info": {
   "codemirror_mode": {
    "name": "ipython",
    "version": 3
   },
   "file_extension": ".py",
   "mimetype": "text/x-python",
   "name": "python",
   "nbconvert_exporter": "python",
   "pygments_lexer": "ipython3",
   "version": "3.6.7"
  }
 },
 "nbformat": 4,
 "nbformat_minor": 2
}
