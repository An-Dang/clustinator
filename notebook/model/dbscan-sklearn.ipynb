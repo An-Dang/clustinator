{
 "cells": [
  {
   "cell_type": "markdown",
   "metadata": {},
   "source": [
    "# Using DBSCAN as clustering method"
   ]
  },
  {
   "cell_type": "code",
   "execution_count": 14,
   "metadata": {},
   "outputs": [],
   "source": [
    "import numpy as np\n",
    "import pandas as pd\n",
    "import re\n",
    "from sklearn import preprocessing\n",
    "from scipy.sparse import csr_matrix\n",
    "from sklearn.cluster import DBSCAN\n",
    "from sklearn import metrics\n",
    "from sklearn.datasets.samples_generator import make_blobs\n",
    "from matplotlib import pyplot as plt"
   ]
  },
  {
   "cell_type": "markdown",
   "metadata": {},
   "source": [
    "## Test"
   ]
  },
  {
   "cell_type": "code",
   "execution_count": 77,
   "metadata": {},
   "outputs": [],
   "source": [
    "states = [\"INITIAL\",\"login\",\"View_Items\",\"home\",\"logout\",\"View_Items_quantity\",\"Add_to_Cart\",\"shoppingcart\",\n",
    "          \"remove\",\"deferorder\",\"purchasecart\",\"inventory\",\"sellinventory\",\"clearcart\",\"cancelorder\"]\n",
    "sessions = {'HZKS0-WG8pZr0eCsZlBAP5Xm': ['INITIAL','login',\n",
    "   'View_Items',\n",
    "   'View_Items',\n",
    "   'View_Items',\n",
    "   'View_Items',\n",
    "   'View_Items',\n",
    "   'View_Items',\n",
    "   'View_Items',\n",
    "   'View_Items',\n",
    "   'View_Items',\n",
    "   'View_Items',\n",
    "   'View_Items',\n",
    "   'View_Items',\n",
    "   'View_Items',\n",
    "   'View_Items',\n",
    "   'home',\n",
    "   'logout','$']}"
   ]
  },
  {
   "cell_type": "markdown",
   "metadata": {},
   "source": [
    "### Makovchain & sparse matrix"
   ]
  },
  {
   "cell_type": "code",
   "execution_count": 169,
   "metadata": {
    "scrolled": true
   },
   "outputs": [
    {
     "data": {
      "text/plain": [
       "Index([], dtype='object')"
      ]
     },
     "execution_count": 169,
     "metadata": {},
     "output_type": "execute_result"
    }
   ],
   "source": [
    "def transition_matrix(sessions, states):\n",
    "    markovchains = []\n",
    "    for key, value in sessions.items():\n",
    "        # labelEncoding\n",
    "        le = preprocessing.LabelEncoder()\n",
    "        le.fit(value)\n",
    "        transformed_s = le.transform(value)\n",
    "        \n",
    "        #factorize\n",
    "        factorize = pd.factorize(value)[0]\n",
    "        \n",
    "        # matrix\n",
    "        n = 1 + max(factorize)  # number of states\n",
    "        M = [[0] * n for _ in range(n)]\n",
    "\n",
    "        for (i, j) in zip(factorize, factorize[1:]):\n",
    "            M[i][j] += 1\n",
    "        \n",
    "        # now convert to probabilities:\n",
    "        for row in M:\n",
    "            s = sum(row)\n",
    "            if s > 0:\n",
    "                row[:] = [f / s for f in row]\n",
    "                \n",
    "        # print Matrix style\n",
    "        #for row in M: print(' '.join('{0:.2f}'.format(x) for x in row))\n",
    "        \n",
    "        # unique array in the right order\n",
    "        value = np.array(value)\n",
    "        _, idx = np.unique(value, return_index=True)\n",
    "        \n",
    "        df = pd.DataFrame(data = M, index=value[np.sort(idx)],\n",
    "                          columns=value[np.sort(idx)])\n",
    "        #print(df)\n",
    "        df_1 = pd.DataFrame(index=states, columns=states, dtype='float64')\n",
    "        #print(df_1)\n",
    "        #merge = df_1.merge(df, how='outer').fillna(0).round(2).set_index(value[np.sort(idx)])\n",
    "        \n",
    "        merge = pd.concat([pd.concat([df_1, df], axis=1, sort= False)], axis=0).fillna(0).round(2)\n",
    "        #print(merge)\n",
    "        join = pd.concat([df_1, df], axis=1, sort= False).fillna(0).round(2)\n",
    "        \n",
    "        #print(join)\n",
    "        #print(merge)\n",
    "        \n",
    "        \"\"\"\n",
    "        # convert into Vector\n",
    "        merge = np.array(merge.values.flatten().tolist())\n",
    "        print(len(merge))\n",
    "        # resize so the vectors got the same length\n",
    "        size = 16*16\n",
    "        merge.resize(size)\n",
    "        \n",
    "        # 2-D array \n",
    "        markovchains.append(merge)\n",
    "        \n",
    "        \n",
    "        # csr sparse matrix\n",
    "        merge = csr_matrix(merge)\n",
    "        #print(merge)\n",
    "        markovchains.append(merge)\n",
    "        \"\"\"\n",
    "    #print(len(merge))\n",
    "    return cols_to_use\n",
    "\n",
    "m = transition_matrix(sessions, states)\n",
    "m"
   ]
  },
  {
   "cell_type": "code",
   "execution_count": 63,
   "metadata": {},
   "outputs": [
    {
     "name": "stdout",
     "output_type": "stream",
     "text": [
      "[ 0 -1  0  0]\n",
      "DBSCAN(algorithm='auto', eps=3, leaf_size=30, metric='euclidean',\n",
      "    metric_params=None, min_samples=2, n_jobs=None, p=None)\n"
     ]
    }
   ],
   "source": [
    "X = m\n",
    "clustering = DBSCAN(eps=3, min_samples=2).fit(X)\n",
    "labels = clustering.labels_\n",
    "print(labels)\n",
    "print(clustering)"
   ]
  },
  {
   "cell_type": "markdown",
   "metadata": {},
   "source": [
    "## DBSCAN\n",
    "Testing DBSCAN with random data."
   ]
  },
  {
   "cell_type": "code",
   "execution_count": 49,
   "metadata": {},
   "outputs": [
    {
     "name": "stdout",
     "output_type": "stream",
     "text": [
      "[-1 -1 -1 -1 -1 -1 -1 -1 -1 -1 -1 -1 -1 -1 -1 -1 -1 -1 -1 -1]\n",
      "DBSCAN(algorithm='auto', eps=3, leaf_size=30, metric='euclidean',\n",
      "    metric_params=None, min_samples=2, n_jobs=None, p=None)\n"
     ]
    }
   ],
   "source": [
    "X = np.arange(100).reshape(20,5)\n",
    "clustering = DBSCAN(eps=3, min_samples=2).fit(X)\n",
    "labels = clustering.labels_\n",
    "print(labels)\n",
    "print(clustering)"
   ]
  },
  {
   "cell_type": "code",
   "execution_count": 50,
   "metadata": {},
   "outputs": [
    {
     "name": "stdout",
     "output_type": "stream",
     "text": [
      "[[ 1  2]\n",
      " [ 2  2]\n",
      " [ 2  3]\n",
      " [ 8  7]\n",
      " [ 8  8]\n",
      " [25 80]]\n",
      "[ 0  0  0  1  1 -1]\n"
     ]
    },
    {
     "data": {
      "text/plain": [
       "DBSCAN(algorithm='auto', eps=3, leaf_size=30, metric='euclidean',\n",
       "    metric_params=None, min_samples=2, n_jobs=None, p=None)"
      ]
     },
     "execution_count": 50,
     "metadata": {},
     "output_type": "execute_result"
    }
   ],
   "source": [
    "X = np.array([[1, 2], [2, 2], [2, 3],\n",
    "              [8, 7], [8, 8], [25, 80]])\n",
    "print(X)\n",
    "clustering = DBSCAN(eps=3, min_samples=2).fit(X)\n",
    "labels = clustering.labels_\n",
    "print(clustering.labels_)\n",
    "\n",
    "clustering "
   ]
  },
  {
   "cell_type": "code",
   "execution_count": 51,
   "metadata": {},
   "outputs": [
    {
     "data": {
      "image/png": "[encoded data removed]",
      "text/plain": [
       "<Figure size 720x720 with 1 Axes>"
      ]
     },
     "metadata": {
      "needs_background": "light"
     },
     "output_type": "display_data"
    }
   ],
   "source": [
    "core_samples = np.zeros_like(labels, dtype = bool)\n",
    "core_samples[clustering.core_sample_indices_] = True\n",
    "\n",
    "unique_labels = set(labels)\n",
    "plt.figure(figsize=(10, 10))\n",
    "colors = plt.cm.Spectral(np.linspace(0, 1, len(unique_labels)))\n",
    "for k, col in zip(unique_labels, colors):\n",
    "    if k == -1:\n",
    "        # Black used for noise.\n",
    "        col = 'k'\n",
    "\n",
    "    class_member_mask = (labels == k)\n",
    "\n",
    "    xy = X[class_member_mask & core_samples]\n",
    "    plt.plot(xy[:, 0], xy[:, 1], 'o', markerfacecolor=col,\n",
    "            markeredgecolor='k', markersize=14)\n",
    "\n",
    "    xy = X[class_member_mask & ~core_samples]\n",
    "    plt.plot(xy[:, 0], xy[:, 1], 'o', markerfacecolor=col,\n",
    "            markeredgecolor='k', markersize=6)\n",
    "\n",
    "plt.title('Estimated number of clusters:')\n",
    "plt.show()"
   ]
  },
  {
   "cell_type": "code",
   "execution_count": 185,
   "metadata": {},
   "outputs": [
    {
     "name": "stdout",
     "output_type": "stream",
     "text": [
      "   a  b  c\n",
      "a  0  0  0\n",
      "b  0  0  0\n",
      "c  0  0  0\n",
      "d  0  0  0\n",
      "e  0  0  0\n",
      "f  0  0  0\n",
      "   a  b\n",
      "a  0  5\n",
      "b  1  6\n",
      "c  2  7\n",
      "e  3  8\n"
     ]
    }
   ],
   "source": [
    "df1 = pd.DataFrame({'a':[0,0,0,0,0,0],\n",
    "                    'b':[0,0,0,0,0,0], 'c':[0,0,0,0,0,0]}, index=list('abcdef'))\n",
    "\n",
    "print (df1)\n",
    "\n",
    "\n",
    "df2 = pd.DataFrame({'a':range(4),\n",
    "                    'b':[5,6,7,8]}, index=list('abce'))\n",
    "\n",
    "print (df2)\n",
    "\n"
   ]
  },
  {
   "cell_type": "code",
   "execution_count": null,
   "metadata": {},
   "outputs": [],
   "source": []
  }
 ],
 "metadata": {
  "kernelspec": {
   "display_name": "Python 3",
   "language": "python",
   "name": "python3"
  },
  "language_info": {
   "codemirror_mode": {
    "name": "ipython",
    "version": 3
   },
   "file_extension": ".py",
   "mimetype": "text/x-python",
   "name": "python",
   "nbconvert_exporter": "python",
   "pygments_lexer": "ipython3",
   "version": "3.6.7"
  }
 },
 "nbformat": 4,
 "nbformat_minor": 2
}
